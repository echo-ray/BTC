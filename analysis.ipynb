{
 "metadata": {
  "name": "",
  "signature": "sha256:3ccfe4b98c303ad2bdedd0115ce413f2a2aa9ec11755df853a091ac722ddb933"
 },
 "nbformat": 3,
 "nbformat_minor": 0,
 "worksheets": [
  {
   "cells": [
    {
     "cell_type": "code",
     "collapsed": false,
     "input": [
      "%pylab inline\n",
      "import pandas, pickle\n",
      "from scipy.stats import expon, chisquare\n",
      "\n",
      "tableau20 = pickle.load(open(\"tableau20.colors\",\"rb\"))\n",
      "rcParams[\"figure.figsize\"] = (12,8)\n",
      "rcParams[\"axes.color_cycle\"] = tableau20"
     ],
     "language": "python",
     "metadata": {},
     "outputs": [
      {
       "output_type": "stream",
       "stream": "stdout",
       "text": [
        "Populating the interactive namespace from numpy and matplotlib\n"
       ]
      }
     ],
     "prompt_number": 112
    },
    {
     "cell_type": "code",
     "collapsed": false,
     "input": [
      "df = pandas.read_csv(\"./data/data_2014_07_29.csv\")\n",
      "df.time = map(lambda x: float(x[11:-1][:2])*3600.0 + float(x[11:-1][3:5])*60.0 + float(x[11:-1][6:]), df.time)\n",
      "df[\"timedelta\"] = df.time - df.time.shift(1)\n",
      "df[\"timedelta\"].iloc[0] = 0.0"
     ],
     "language": "python",
     "metadata": {},
     "outputs": [],
     "prompt_number": 69
    },
    {
     "cell_type": "code",
     "collapsed": false,
     "input": [
      "df.head()"
     ],
     "language": "python",
     "metadata": {},
     "outputs": [
      {
       "html": [
        "<div style=\"max-height:1000px;max-width:1500px;overflow:auto;\">\n",
        "<table border=\"1\" class=\"dataframe\">\n",
        "  <thead>\n",
        "    <tr style=\"text-align: right;\">\n",
        "      <th></th>\n",
        "      <th>time</th>\n",
        "      <th>type</th>\n",
        "      <th>timedelta</th>\n",
        "    </tr>\n",
        "  </thead>\n",
        "  <tbody>\n",
        "    <tr>\n",
        "      <th>0</th>\n",
        "      <td> 571.896532</td>\n",
        "      <td> cancel</td>\n",
        "      <td> 0.000000</td>\n",
        "    </tr>\n",
        "    <tr>\n",
        "      <th>1</th>\n",
        "      <td> 572.108843</td>\n",
        "      <td>  limit</td>\n",
        "      <td> 0.212311</td>\n",
        "    </tr>\n",
        "    <tr>\n",
        "      <th>2</th>\n",
        "      <td> 572.299103</td>\n",
        "      <td> cancel</td>\n",
        "      <td> 0.190260</td>\n",
        "    </tr>\n",
        "    <tr>\n",
        "      <th>3</th>\n",
        "      <td> 572.509541</td>\n",
        "      <td>  limit</td>\n",
        "      <td> 0.210438</td>\n",
        "    </tr>\n",
        "    <tr>\n",
        "      <th>4</th>\n",
        "      <td> 573.236127</td>\n",
        "      <td> cancel</td>\n",
        "      <td> 0.726586</td>\n",
        "    </tr>\n",
        "  </tbody>\n",
        "</table>\n",
        "</div>"
       ],
       "metadata": {},
       "output_type": "pyout",
       "prompt_number": 70,
       "text": [
        "         time    type  timedelta\n",
        "0  571.896532  cancel   0.000000\n",
        "1  572.108843   limit   0.212311\n",
        "2  572.299103  cancel   0.190260\n",
        "3  572.509541   limit   0.210438\n",
        "4  573.236127  cancel   0.726586"
       ]
      }
     ],
     "prompt_number": 70
    },
    {
     "cell_type": "code",
     "collapsed": false,
     "input": [
      "mtype = \"limit\"; outlier = 0.35\n",
      "timedelta = df.loc[(df.type == mtype) & (df.timedelta < outlier)].timedelta; timedelta.index = range(len(timedelta))\n",
      "bins = hist(timedelta, normed=True);\n",
      "ex = expon(scale=timedelta.mean())\n",
      "plot(bins[1], ex.pdf(bins[1]));\n",
      "xlim(0.0,outlier);\n",
      "fobs = bins[0]/sum(bins[0])\n",
      "fexp = []\n",
      "for idx in range(1, len(bins[1])):\n",
      "    fexp.append(ex.cdf(bins[1][idx]) - ex.cdf(bins[1][idx-1]))\n",
      "fobs = np.array(fobs)*len(timedelta)\n",
      "fexp = np.array(fexp)*len(timedelta)\n",
      "chisquare(fobs, fexp, ddof=1)"
     ],
     "language": "python",
     "metadata": {},
     "outputs": [
      {
       "metadata": {},
       "output_type": "pyout",
       "prompt_number": 192,
       "text": [
        "(171.36700506904094, 6.6674605371072874e-33)"
       ]
      },
      {
       "metadata": {},
       "output_type": "display_data",
       "png": "[encoded data removed]",
       "text": [
        "<matplotlib.figure.Figure at 0x10c2c8a50>"
       ]
      }
     ],
     "prompt_number": 192
    }
   ],
   "metadata": {}
  }
 ]
}