{
 "cells": [
  {
   "cell_type": "code",
   "execution_count": 1,
   "metadata": {
    "collapsed": false
   },
   "outputs": [
    {
     "name": "stdout",
     "output_type": "stream",
     "text": [
      "Populating the interactive namespace from numpy and matplotlib\n"
     ]
    }
   ],
   "source": [
    "%pylab inline\n",
    "\n",
    "import pandas as pd\n",
    "import pickle\n",
    "import matplotlib.dates as md\n",
    "import statsmodels.api as sm\n",
    "import scipy.stats as dists\n",
    "\n",
    "from scipy.misc import factorial\n",
    "from scipy.optimize import minimize\n",
    "\n",
    "tableau = pickle.load(open('tableau.colors', 'rb'))\n",
    "\n",
    "rcParams['figure.figsize'] = (10,8)\n",
    "rcParams['axes.grid'] = True\n",
    "rcParams['lines.linewidth'] = 2.5\n",
    "rcParams['axes.prop_cycle'] = cycler('color', tableau)\n",
    "\n",
    "xfmt = md.DateFormatter('%H:%M:%S')"
   ]
  },
  {
   "cell_type": "code",
   "execution_count": null,
   "metadata": {
    "collapsed": false
   },
   "outputs": [],
   "source": [
    "data = pd.read_csv('../GDAX/data/2016-10-09.trades.csv', index_col=0)\n",
    "data.t = pd.to_datetime(1e9*data.t)\n",
    "\n",
    "def consolidate(data):\n",
    "    df = pd.DataFrame(columns=['t', 'px', 'sz', 'sd', 'bid', 'mid', 'ask'])\n",
    "    df.px = (data.px * data.sz).groupby(data.t).sum() / data.groupby(data.t).sz.sum()\n",
    "    df.sz = data.groupby(data.t).sz.sum()\n",
    "    df.sd = list(map(lambda group: group[1].sd.iloc[-1], list(data.groupby(data.t))))\n",
    "    df.bid = list(map(lambda group: group[1].bid.iloc[-1], list(data.groupby(data.t))))\n",
    "    df.ask = list(map(lambda group: group[1].ask.iloc[-1], list(data.groupby(data.t))))\n",
    "    df.mid = 0.5*(df.bid + df.ask)\n",
    "    df.t = df.index\n",
    "    df.index = range(len(df))\n",
    "    return df\n",
    "df = consolidate(data)"
   ]
  },
  {
   "cell_type": "code",
   "execution_count": null,
   "metadata": {
    "collapsed": false
   },
   "outputs": [],
   "source": [
    "ax = []\n",
    "ax.append(subplot2grid((3,1),(0,0), rowspan=2))\n",
    "ax.append(subplot2grid((3,1),(2,0)))\n",
    "\n",
    "ax[0].plot(df.t, df.px, lw=2, label='trade price')\n",
    "ax[0].plot(df.t, (df.px * df.sz).rolling(100).sum() / df.sz.rolling(100).sum(), lw=2, label='100-tick vwap')\n",
    "#ax[1].plot(df.t, (df.sz * (df.sd == 'b')).cumsum(), '-', c=tableau[4])\n",
    "#ax[1].plot(df.t, (df.sz * (df.sd == 's')).cumsum(), '-', c=tableau[3])\n",
    "ax[1].plot(df.loc[df.sd == 'b'].t, df.sz.loc[df.sd == 'b'], 'o', c=tableau[0])\n",
    "ax[1].plot(df.loc[df.sd == 's'].t, df.sz.loc[df.sd == 's'], 'o', c=tableau[6])\n",
    "\n",
    "ax[0].xaxis.set_major_formatter(xfmt)\n",
    "ax[0].yaxis.get_major_formatter().set_useOffset(False)\n",
    "ax[0].legend(loc='lower left')\n",
    "ax[1].xaxis.set_major_formatter(xfmt)"
   ]
  },
  {
   "cell_type": "code",
   "execution_count": null,
   "metadata": {
    "collapsed": false
   },
   "outputs": [],
   "source": [
    "print('total ticks in dataset:       %d ticks' % (len(df)))\n",
    "print('time elapsed over dataset:    %0.2f hours' % ((df.t.iloc[-1] - df.t.iloc[0]).total_seconds() / 3600))\n",
    "print('average time between ticks:   %0.2f seconds' % ((df.t - df.t.shift(1)).mean().total_seconds()))\n",
    "print('percent ticks are buys:       %0.1f%%' % (100.*len(df.loc[df.sd == 'b']) / len(df)))\n",
    "print('avg. abs. px change on tick:  %0.1f cents' % (100.*abs(df.px - df.px.shift(1)).mean()))\n",
    "print('std in px change on tick:     %0.1f cents' % (100.*(df.px - df.px.shift(1)).std()))"
   ]
  },
  {
   "cell_type": "code",
   "execution_count": null,
   "metadata": {
    "collapsed": true
   },
   "outputs": [],
   "source": []
  }
 ],
 "metadata": {
  "anaconda-cloud": {},
  "kernelspec": {
   "display_name": "Python [conda root]",
   "language": "python",
   "name": "conda-root-py"
  },
  "language_info": {
   "codemirror_mode": {
    "name": "ipython",
    "version": 3
   },
   "file_extension": ".py",
   "mimetype": "text/x-python",
   "name": "python",
   "nbconvert_exporter": "python",
   "pygments_lexer": "ipython3",
   "version": "3.5.2"
  }
 },
 "nbformat": 4,
 "nbformat_minor": 1
}
