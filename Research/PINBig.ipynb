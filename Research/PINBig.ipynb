{
 "cells": [
  {
   "cell_type": "code",
   "execution_count": null,
   "metadata": {
    "collapsed": false
   },
   "outputs": [
    {
     "name": "stdout",
     "output_type": "stream",
     "text": [
      "Populating the interactive namespace from numpy and matplotlib\n"
     ]
    }
   ],
   "source": [
    "%pylab inline\n",
    "\n",
    "import pandas as pd\n",
    "import pickle\n",
    "import matplotlib.dates as md\n",
    "import statsmodels.api as sm\n",
    "import scipy.stats as dists\n",
    "\n",
    "from scipy.misc import factorial\n",
    "from scipy.optimize import minimize\n",
    "\n",
    "tableau = pickle.load(open('tableau.colors', 'rb'))\n",
    "\n",
    "rcParams['figure.figsize'] = (10,8)\n",
    "rcParams['axes.grid'] = True\n",
    "rcParams['lines.linewidth'] = 2.5\n",
    "rcParams['axes.prop_cycle'] = cycler('color', tableau)\n",
    "\n",
    "xfmt = md.DateFormatter('%H:%M:%S')"
   ]
  },
  {
   "cell_type": "code",
   "execution_count": null,
   "metadata": {
    "collapsed": true
   },
   "outputs": [],
   "source": [
    "hardcoded = pd.read_csv('~/Downloads/coinbaseUSD.csv', header=0, names=['t', 'px', 'sz'])"
   ]
  },
  {
   "cell_type": "code",
   "execution_count": null,
   "metadata": {
    "collapsed": true
   },
   "outputs": [],
   "source": [
    "df = hardcoded.copy()\n",
    "df.t *= 1e9\n",
    "df.t = pd.to_datetime(df.t)\n",
    "df['pxd'] = df.px - df.px.shift(1)\n",
    "df['d'] = 1*(df.pxd > 0) - 1*(df.pxd < 0)\n",
    "\n",
    "# Eliminate early data with insufficient liquidity.\n",
    "df = df.loc[df.t > \"2015-09-03\"]"
   ]
  },
  {
   "cell_type": "code",
   "execution_count": 4,
   "metadata": {
    "collapsed": true
   },
   "outputs": [],
   "source": [
    "def front(df, stamp, days=1):\n",
    "    sliced = df.loc[(df.t - pd.to_datetime(stamp)) >= pd.Timedelta(days=0)]\n",
    "    sliced = sliced.loc[(sliced.t - pd.to_datetime(stamp)) < pd.Timedelta(days=days)]\n",
    "    return sliced\n",
    "\n",
    "def around(df, stamp, size):\n",
    "    sliced = df.loc[abs(df.t - pd.to_datetime(stamp)) < pd.Timedelta(days=size/24.)]\n",
    "    return sliced\n",
    "\n",
    "def vwap(df, window):\n",
    "    return (df.px * df.sz).rolling(window).sum() / df.sz.rolling(window).sum()"
   ]
  },
  {
   "cell_type": "code",
   "execution_count": 5,
   "metadata": {
    "collapsed": false
   },
   "outputs": [],
   "source": [
    "unique_days = df.t.map(lambda t: t.strftime('%Y-%m-%d')).unique()"
   ]
  },
  {
   "cell_type": "code",
   "execution_count": 71,
   "metadata": {
    "collapsed": true
   },
   "outputs": [],
   "source": [
    "# PIN Model.\n",
    "# Params: alpha, theta, mu, epsilon_buy, epsilon_sell\n",
    "def log_likelihood(buys, sells, xk):\n",
    "    alpha, theta, mu, epsilon_buy, epsilon_sell = xk\n",
    "    k1 = -mu - buys*log(1 + mu/epsilon_buy)\n",
    "    k2 = -mu - sells*log(1 + mu/epsilon_sell)\n",
    "    k3 = -buys*log(1 + mu/epsilon_buy) - sells*log(1 + mu/epsilon_sell)\n",
    "    kmax = max(k1, k2, k3)\n",
    "    \n",
    "    a = log(alpha*theta*exp(k1-kmax) + alpha*(1-theta)*exp(k2-kmax) + (1-alpha)*exp(k3-kmax))\n",
    "    b = buys*log(epsilon_buy + mu) + sells*log(epsilon_sell + mu)\n",
    "    return a + b + (epsilon_buy + epsilon_sell) + kmax\n",
    "\n",
    "def pin(xk):\n",
    "    alpha, theta, mu, epsilon_buy, epsilon_sell = xk\n",
    "    return alpha*mu/(epsilon_buy + epsilon_sell + alpha*mu)\n",
    "\n",
    "def initial_values(mbuys, msells):\n",
    "    values = [0.1, 0.3, 0.5, 0.7, 0.9]\n",
    "    choices = []\n",
    "    for alpha in values:\n",
    "        for theta in values:\n",
    "            for gamma in values:\n",
    "                if mbuys <= msells:\n",
    "                    epsilon_buy = gamma*mbuys\n",
    "                    mu = (mbuys - epsilon_buy)/(alpha*(1-theta))\n",
    "                    epsilon_sell = msells - alpha*theta*mu\n",
    "                else:\n",
    "                    epsilon_sell = gamma*msells\n",
    "                    mu = (msells - epsilon_sell)/(alpha*theta)\n",
    "                    epsilon_buy = mbuys - alpha*(1-theta)*mu\n",
    "                if epsilon_buy > 0 and epsilon_sell > 0 and mu > 0:\n",
    "                    choices.append((alpha, theta, mu, epsilon_buy, epsilon_sell))\n",
    "    return choices"
   ]
  },
  {
   "cell_type": "code",
   "execution_count": 129,
   "metadata": {
    "collapsed": false
   },
   "outputs": [],
   "source": [
    "data = list(map(lambda day: front(df, day), unique_days[-100:]))\n",
    "buys = array(list(map(lambda day: len(day.loc[day.d == 1]), data)))\n",
    "sells = array(list(map(lambda day: len(day.loc[day.d == -1]), data)))"
   ]
  },
  {
   "cell_type": "code",
   "execution_count": 132,
   "metadata": {
    "collapsed": false
   },
   "outputs": [
    {
     "data": {
      "text/plain": [
       "     fun: -9363295468.1479053\n",
       "     jac: array([ 256.,    0.,    0.,    0.,    0.,    0.])\n",
       " message: 'Optimization terminated successfully.'\n",
       "    nfev: 32\n",
       "     nit: 3\n",
       "    njev: 3\n",
       "  status: 0\n",
       " success: True\n",
       "       x: array([  6.45280398e-01,   1.51321912e-04,   3.83902555e+06,\n",
       "         4.64325040e+07,   4.69605832e+07])"
      ]
     },
     "execution_count": 132,
     "metadata": {},
     "output_type": "execute_result"
    }
   ],
   "source": [
    "def obj(xk):\n",
    "    return -sum(list(map(lambda idx: log_likelihood(buys[idx], sells[idx], xk), range(len(buys)))))\n",
    "\n",
    "cons = [{'type':'ineq', 'fun':lambda xk: xk[0]},\n",
    "        {'type':'ineq', 'fun':lambda xk: xk[1]},\n",
    "        {'type':'ineq', 'fun':lambda xk: 1-xk[0]},\n",
    "        {'type':'ineq', 'fun':lambda xk: 1-xk[1]}]\n",
    "\n",
    "choices = initial_values(mean(buys), mean(sells))\n",
    "\n",
    "results = map(lambda choice: minimize(obj, choice, constraints=cons), choices)\n",
    "#results = [res for res in results if res['message'] == 'Optimization terminated successfully.']\n",
    "results = [res for res in results if (res['x'][0] > 1e-4) and (res['x'][1] > 1e-4) and (res['x'][2] > 0)]\n",
    "optimum = min(results, key=lambda res: -obj(res['x']))\n",
    "optimum"
   ]
  },
  {
   "cell_type": "code",
   "execution_count": 133,
   "metadata": {
    "collapsed": false
   },
   "outputs": [
    {
     "data": {
      "text/plain": [
       "0.025839566823874213"
      ]
     },
     "execution_count": 133,
     "metadata": {},
     "output_type": "execute_result"
    }
   ],
   "source": [
    "pin(optimum['x'])"
   ]
  },
  {
   "cell_type": "code",
   "execution_count": 134,
   "metadata": {
    "collapsed": false
   },
   "outputs": [
    {
     "data": {
      "text/plain": [
       "0.49717281418461756"
      ]
     },
     "execution_count": 134,
     "metadata": {},
     "output_type": "execute_result"
    }
   ],
   "source": [
    "optimum['x'][3]/(optimum['x'][3]+optimum['x'][4])"
   ]
  },
  {
   "cell_type": "code",
   "execution_count": null,
   "metadata": {
    "collapsed": true
   },
   "outputs": [],
   "source": []
  }
 ],
 "metadata": {
  "anaconda-cloud": {},
  "kernelspec": {
   "display_name": "Python [conda root]",
   "language": "python",
   "name": "conda-root-py"
  },
  "language_info": {
   "codemirror_mode": {
    "name": "ipython",
    "version": 3
   },
   "file_extension": ".py",
   "mimetype": "text/x-python",
   "name": "python",
   "nbconvert_exporter": "python",
   "pygments_lexer": "ipython3",
   "version": "3.5.2"
  }
 },
 "nbformat": 4,
 "nbformat_minor": 1
}
