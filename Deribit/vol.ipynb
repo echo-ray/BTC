{
 "cells": [
  {
   "cell_type": "code",
   "execution_count": 12,
   "metadata": {
    "collapsed": false
   },
   "outputs": [
    {
     "name": "stdout",
     "output_type": "stream",
     "text": [
      "Populating the interactive namespace from numpy and matplotlib\n"
     ]
    }
   ],
   "source": [
    "%pylab inline\n",
    "\n",
    "import pickle\n",
    "import scipy.stats as stats\n",
    "import scipy.optimize as opt\n",
    "import deribit_api as api\n",
    "\n",
    "rcParams['axes.prop_cycle'] = cycler('color',pickle.load(open('tableau.colors', 'rb')))"
   ]
  },
  {
   "cell_type": "code",
   "execution_count": 19,
   "metadata": {
    "collapsed": false
   },
   "outputs": [],
   "source": [
    "def BSsetup(S, K, T, sigma, r, c):\n",
    "    d1 = (np.log(S/K) + (r - c + sigma**2/2)*T)/(sigma*np.sqrt(T))\n",
    "    d2 = d1 - sigma*np.sqrt(T)\n",
    "    return d1,d2\n",
    "\n",
    "def BScall(S, K, T, sigma, r, c):\n",
    "    d1, d2 = BSsetup(S, K, T, sigma, r, c)\n",
    "    return stats.norm.cdf(d1)*S - stats.norm.cdf(d2)*K*np.exp(-r*T)\n",
    "\n",
    "def BSput(S, K, T, sigma, r, c):\n",
    "    d1, d2 = BSsetup(S, K, T, sigma, r, c)\n",
    "    return stats.norm.cdf(-d2)*K*np.exp(-r*T) - stats.norm.cdf(-d1)*S\n",
    "\n",
    "def BSvol(S, K, T, r, c, V, call=True):\n",
    "    func = lambda sigma: BScall(S,K,T,sigma,r,c)-V if call else BSput(S,K,T,sigma,r,c)-V\n",
    "    return opt.brentq(func, 0, 10.0)"
   ]
  },
  {
   "cell_type": "code",
   "execution_count": 4,
   "metadata": {
    "collapsed": false
   },
   "outputs": [],
   "source": [
    "def T(expiry):\n",
    "    diff = datetime.datetime.strptime('%s 20:00:00'%expiry, '%Y-%m-%d %H:%M:%S') - datetime.datetime.today()\n",
    "    return diff.total_seconds()/3600/24/360"
   ]
  },
  {
   "cell_type": "code",
   "execution_count": 8,
   "metadata": {
    "collapsed": true
   },
   "outputs": [],
   "source": [
    "keys = open('keys.txt', 'r').read().split('\\n')[:-1]\n",
    "client = api.RestClient(keys[0], keys[1])"
   ]
  },
  {
   "cell_type": "code",
   "execution_count": 10,
   "metadata": {
    "collapsed": false
   },
   "outputs": [],
   "source": [
    "instruments = client.getinstruments()"
   ]
  },
  {
   "cell_type": "code",
   "execution_count": 20,
   "metadata": {
    "collapsed": false
   },
   "outputs": [
    {
     "data": {
      "text/plain": [
       "38.24850929237337"
      ]
     },
     "execution_count": 20,
     "metadata": {},
     "output_type": "execute_result"
    }
   ],
   "source": [
    "BScall(100.00, 100.00, 1.0, 1.0, 0.0, 0.05)"
   ]
  },
  {
   "cell_type": "code",
   "execution_count": 22,
   "metadata": {
    "collapsed": false
   },
   "outputs": [
    {
     "name": "stderr",
     "output_type": "stream",
     "text": [
      "/Library/Frameworks/Python.framework/Versions/3.5/lib/python3.5/site-packages/ipykernel/__main__.py:2: RuntimeWarning: divide by zero encountered in double_scalars\n",
      "  from ipykernel import kernelapp as app\n"
     ]
    },
    {
     "data": {
      "text/plain": [
       "0.0"
      ]
     },
     "execution_count": 22,
     "metadata": {},
     "output_type": "execute_result"
    }
   ],
   "source": [
    "BSvol(100.00, 100.00, 1.0, 0.0, 0.05, 40)"
   ]
  },
  {
   "cell_type": "code",
   "execution_count": null,
   "metadata": {
    "collapsed": true
   },
   "outputs": [],
   "source": []
  }
 ],
 "metadata": {
  "kernelspec": {
   "display_name": "Python 3",
   "language": "python",
   "name": "python3"
  },
  "language_info": {
   "codemirror_mode": {
    "name": "ipython",
    "version": 3
   },
   "file_extension": ".py",
   "mimetype": "text/x-python",
   "name": "python",
   "nbconvert_exporter": "python",
   "pygments_lexer": "ipython3",
   "version": "3.5.2"
  }
 },
 "nbformat": 4,
 "nbformat_minor": 2
}
